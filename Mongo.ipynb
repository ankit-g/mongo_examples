{
 "cells": [
  {
   "cell_type": "code",
   "execution_count": 249,
   "id": "filled-passenger",
   "metadata": {},
   "outputs": [],
   "source": [
    "from datetime import datetime\n",
    "from datetime import date\n",
    "from pymongo import MongoClient\n",
    "from pymongo.errors import ConnectionFailure\n",
    "from faker import Faker\n",
    "import json\n",
    "from bson import Decimal128 as Decimal\n",
    "from bson.objectid import ObjectId"
   ]
  },
  {
   "cell_type": "code",
   "execution_count": 4,
   "id": "described-agriculture",
   "metadata": {},
   "outputs": [
    {
     "name": "stdout",
     "output_type": "stream",
     "text": [
      "connection established. MongoClient(host=['localhost:27017'], document_class=dict, tz_aware=False, connect=True)\n"
     ]
    }
   ],
   "source": [
    "c = MongoClient(host=\"localhost\", port=27017)\n",
    "print(f\"connection established. {c}\")\n",
    "dbh = c[\"mydb\"] #database handle"
   ]
  },
  {
   "cell_type": "code",
   "execution_count": 13,
   "id": "precise-update",
   "metadata": {},
   "outputs": [
    {
     "data": {
      "text/plain": [
       "[{'_id': ObjectId('6113b890de24031ce926cbe2'),\n",
       "  'username': 'janedoe',\n",
       "  'firstname': 'Jane',\n",
       "  'surname': 'Doe',\n",
       "  'dateofbirth': datetime.datetime(1974, 4, 12, 0, 0),\n",
       "  'email': 'janedoe74@example.com',\n",
       "  'score': 0},\n",
       " {'_id': ObjectId('6113bbc55bfe5dcbbf930e7b'),\n",
       "  'username': 'janedoe',\n",
       "  'firstname': 'Jane',\n",
       "  'surname': 'Doe',\n",
       "  'dateofbirth': datetime.datetime(1974, 4, 12, 0, 0),\n",
       "  'email': 'janedoe74@example.com',\n",
       "  'score': 0}]"
      ]
     },
     "execution_count": 13,
     "metadata": {},
     "output_type": "execute_result"
    }
   ],
   "source": [
    "[u for u in dbh.users.find()]"
   ]
  },
  {
   "cell_type": "code",
   "execution_count": 11,
   "id": "virtual-catering",
   "metadata": {},
   "outputs": [],
   "source": [
    "user_doc = {\n",
    "        \"username\" : \"janedoe\",\n",
    "        \"firstname\" : \"Jane\",\n",
    "        \"surname\" : \"Doe\",\n",
    "        \"dateofbirth\" : datetime(1974, 4, 12),\n",
    "        \"email\" : \"janedoe74@example.com\",\n",
    "        \"score\" : 0\n",
    "}\n"
   ]
  },
  {
   "cell_type": "code",
   "execution_count": 12,
   "id": "peaceful-vanilla",
   "metadata": {},
   "outputs": [
    {
     "data": {
      "text/plain": [
       "<pymongo.results.InsertOneResult at 0x7fa661d192c0>"
      ]
     },
     "execution_count": 12,
     "metadata": {},
     "output_type": "execute_result"
    }
   ],
   "source": [
    "dbh.users.insert_one(user_doc)"
   ]
  },
  {
   "cell_type": "code",
   "execution_count": 28,
   "id": "graphic-stockholm",
   "metadata": {},
   "outputs": [
    {
     "data": {
      "text/plain": [
       "['__class__',\n",
       " '__deepcopy__',\n",
       " '__delattr__',\n",
       " '__dict__',\n",
       " '__dir__',\n",
       " '__doc__',\n",
       " '__eq__',\n",
       " '__format__',\n",
       " '__ge__',\n",
       " '__getattr__',\n",
       " '__getattribute__',\n",
       " '__getitem__',\n",
       " '__gt__',\n",
       " '__hash__',\n",
       " '__init__',\n",
       " '__init_subclass__',\n",
       " '__le__',\n",
       " '__lt__',\n",
       " '__module__',\n",
       " '__ne__',\n",
       " '__new__',\n",
       " '__reduce__',\n",
       " '__reduce_ex__',\n",
       " '__repr__',\n",
       " '__setattr__',\n",
       " '__setstate__',\n",
       " '__sizeof__',\n",
       " '__str__',\n",
       " '__subclasshook__',\n",
       " '__weakref__',\n",
       " '_factories',\n",
       " '_factory_map',\n",
       " '_locales',\n",
       " '_map_provider_method',\n",
       " '_select_factory',\n",
       " '_unique_proxy',\n",
       " '_weights',\n",
       " 'aba',\n",
       " 'add_provider',\n",
       " 'address',\n",
       " 'administrative_unit',\n",
       " 'am_pm',\n",
       " 'android_platform_token',\n",
       " 'ascii_company_email',\n",
       " 'ascii_email',\n",
       " 'ascii_free_email',\n",
       " 'ascii_safe_email',\n",
       " 'bank_country',\n",
       " 'bban',\n",
       " 'binary',\n",
       " 'boolean',\n",
       " 'bothify',\n",
       " 'bs',\n",
       " 'building_number',\n",
       " 'cache_pattern',\n",
       " 'catch_phrase',\n",
       " 'century',\n",
       " 'chrome',\n",
       " 'city',\n",
       " 'city_prefix',\n",
       " 'city_suffix',\n",
       " 'color',\n",
       " 'color_name',\n",
       " 'company',\n",
       " 'company_email',\n",
       " 'company_suffix',\n",
       " 'coordinate',\n",
       " 'country',\n",
       " 'country_calling_code',\n",
       " 'country_code',\n",
       " 'credit_card_expire',\n",
       " 'credit_card_full',\n",
       " 'credit_card_number',\n",
       " 'credit_card_provider',\n",
       " 'credit_card_security_code',\n",
       " 'cryptocurrency',\n",
       " 'cryptocurrency_code',\n",
       " 'cryptocurrency_name',\n",
       " 'csv',\n",
       " 'currency',\n",
       " 'currency_code',\n",
       " 'currency_name',\n",
       " 'currency_symbol',\n",
       " 'current_country',\n",
       " 'current_country_code',\n",
       " 'date',\n",
       " 'date_between',\n",
       " 'date_between_dates',\n",
       " 'date_object',\n",
       " 'date_of_birth',\n",
       " 'date_this_century',\n",
       " 'date_this_decade',\n",
       " 'date_this_month',\n",
       " 'date_this_year',\n",
       " 'date_time',\n",
       " 'date_time_ad',\n",
       " 'date_time_between',\n",
       " 'date_time_between_dates',\n",
       " 'date_time_this_century',\n",
       " 'date_time_this_decade',\n",
       " 'date_time_this_month',\n",
       " 'date_time_this_year',\n",
       " 'day_of_month',\n",
       " 'day_of_week',\n",
       " 'del_arguments',\n",
       " 'dga',\n",
       " 'domain_name',\n",
       " 'domain_word',\n",
       " 'dsv',\n",
       " 'ean',\n",
       " 'ean13',\n",
       " 'ean8',\n",
       " 'ein',\n",
       " 'email',\n",
       " 'factories',\n",
       " 'file_extension',\n",
       " 'file_name',\n",
       " 'file_path',\n",
       " 'firefox',\n",
       " 'first_name',\n",
       " 'first_name_female',\n",
       " 'first_name_male',\n",
       " 'first_name_nonbinary',\n",
       " 'fixed_width',\n",
       " 'format',\n",
       " 'free_email',\n",
       " 'free_email_domain',\n",
       " 'future_date',\n",
       " 'future_datetime',\n",
       " 'generator_attrs',\n",
       " 'get_arguments',\n",
       " 'get_formatter',\n",
       " 'get_providers',\n",
       " 'hex_color',\n",
       " 'hexify',\n",
       " 'hostname',\n",
       " 'http_method',\n",
       " 'iana_id',\n",
       " 'iban',\n",
       " 'image',\n",
       " 'image_url',\n",
       " 'internet_explorer',\n",
       " 'invalid_ssn',\n",
       " 'ios_platform_token',\n",
       " 'ipv4',\n",
       " 'ipv4_network_class',\n",
       " 'ipv4_private',\n",
       " 'ipv4_public',\n",
       " 'ipv6',\n",
       " 'isbn10',\n",
       " 'isbn13',\n",
       " 'iso8601',\n",
       " 'items',\n",
       " 'itin',\n",
       " 'job',\n",
       " 'json',\n",
       " 'language_code',\n",
       " 'language_name',\n",
       " 'last_name',\n",
       " 'last_name_female',\n",
       " 'last_name_male',\n",
       " 'last_name_nonbinary',\n",
       " 'latitude',\n",
       " 'latlng',\n",
       " 'lexify',\n",
       " 'license_plate',\n",
       " 'linux_platform_token',\n",
       " 'linux_processor',\n",
       " 'local_latlng',\n",
       " 'locale',\n",
       " 'locales',\n",
       " 'localized_ean',\n",
       " 'localized_ean13',\n",
       " 'localized_ean8',\n",
       " 'location_on_land',\n",
       " 'longitude',\n",
       " 'mac_address',\n",
       " 'mac_platform_token',\n",
       " 'mac_processor',\n",
       " 'md5',\n",
       " 'military_apo',\n",
       " 'military_dpo',\n",
       " 'military_ship',\n",
       " 'military_state',\n",
       " 'mime_type',\n",
       " 'month',\n",
       " 'month_name',\n",
       " 'msisdn',\n",
       " 'name',\n",
       " 'name_female',\n",
       " 'name_male',\n",
       " 'name_nonbinary',\n",
       " 'nic_handle',\n",
       " 'nic_handles',\n",
       " 'null_boolean',\n",
       " 'numerify',\n",
       " 'opera',\n",
       " 'paragraph',\n",
       " 'paragraphs',\n",
       " 'parse',\n",
       " 'password',\n",
       " 'past_date',\n",
       " 'past_datetime',\n",
       " 'phone_number',\n",
       " 'port_number',\n",
       " 'postalcode',\n",
       " 'postalcode_in_state',\n",
       " 'postalcode_plus4',\n",
       " 'postcode',\n",
       " 'postcode_in_state',\n",
       " 'prefix',\n",
       " 'prefix_female',\n",
       " 'prefix_male',\n",
       " 'prefix_nonbinary',\n",
       " 'pricetag',\n",
       " 'profile',\n",
       " 'provider',\n",
       " 'providers',\n",
       " 'psv',\n",
       " 'pybool',\n",
       " 'pydecimal',\n",
       " 'pydict',\n",
       " 'pyfloat',\n",
       " 'pyint',\n",
       " 'pyiterable',\n",
       " 'pylist',\n",
       " 'pyset',\n",
       " 'pystr',\n",
       " 'pystr_format',\n",
       " 'pystruct',\n",
       " 'pytimezone',\n",
       " 'pytuple',\n",
       " 'random',\n",
       " 'random_choices',\n",
       " 'random_digit',\n",
       " 'random_digit_not_null',\n",
       " 'random_digit_not_null_or_empty',\n",
       " 'random_digit_or_empty',\n",
       " 'random_element',\n",
       " 'random_elements',\n",
       " 'random_int',\n",
       " 'random_letter',\n",
       " 'random_letters',\n",
       " 'random_lowercase_letter',\n",
       " 'random_number',\n",
       " 'random_sample',\n",
       " 'random_uppercase_letter',\n",
       " 'randomize_nb_elements',\n",
       " 'rgb_color',\n",
       " 'rgb_css_color',\n",
       " 'ripe_id',\n",
       " 'safari',\n",
       " 'safe_color_name',\n",
       " 'safe_domain_name',\n",
       " 'safe_email',\n",
       " 'safe_hex_color',\n",
       " 'secondary_address',\n",
       " 'seed',\n",
       " 'seed_instance',\n",
       " 'seed_locale',\n",
       " 'sentence',\n",
       " 'sentences',\n",
       " 'set_arguments',\n",
       " 'set_formatter',\n",
       " 'sha1',\n",
       " 'sha256',\n",
       " 'simple_profile',\n",
       " 'slug',\n",
       " 'ssn',\n",
       " 'state',\n",
       " 'state_abbr',\n",
       " 'street_address',\n",
       " 'street_name',\n",
       " 'street_suffix',\n",
       " 'suffix',\n",
       " 'suffix_female',\n",
       " 'suffix_male',\n",
       " 'suffix_nonbinary',\n",
       " 'swift',\n",
       " 'swift11',\n",
       " 'swift8',\n",
       " 'tar',\n",
       " 'text',\n",
       " 'texts',\n",
       " 'time',\n",
       " 'time_delta',\n",
       " 'time_object',\n",
       " 'time_series',\n",
       " 'timezone',\n",
       " 'tld',\n",
       " 'tsv',\n",
       " 'unique',\n",
       " 'unix_device',\n",
       " 'unix_partition',\n",
       " 'unix_time',\n",
       " 'upc_a',\n",
       " 'upc_e',\n",
       " 'uri',\n",
       " 'uri_extension',\n",
       " 'uri_page',\n",
       " 'uri_path',\n",
       " 'url',\n",
       " 'user_agent',\n",
       " 'user_name',\n",
       " 'uuid4',\n",
       " 'weights',\n",
       " 'windows_platform_token',\n",
       " 'word',\n",
       " 'words',\n",
       " 'year',\n",
       " 'zip',\n",
       " 'zipcode',\n",
       " 'zipcode_in_state',\n",
       " 'zipcode_plus4']"
      ]
     },
     "execution_count": 28,
     "metadata": {},
     "output_type": "execute_result"
    }
   ],
   "source": [
    "Faker().image()"
   ]
  },
  {
   "cell_type": "code",
   "execution_count": 292,
   "id": "welsh-buffalo",
   "metadata": {},
   "outputs": [
    {
     "data": {
      "text/plain": [
       "{'_id': ObjectId('6113fcb75bfe5dcbbf930e7e'),\n",
       " 'job': 'Scientist, research (life sciences)',\n",
       " 'company': 'Arias LLC',\n",
       " 'ssn': '168-88-7705',\n",
       " 'residence': '355 Marisa Isle\\nKevinberg, WV 82588',\n",
       " 'current_location': [Decimal128('20.8178755'), Decimal128('87.801446')],\n",
       " 'blood_group': 'O-',\n",
       " 'website': ['http://lang.com/'],\n",
       " 'username': 'marcus33',\n",
       " 'name': 'Anthony Hall',\n",
       " 'sex': 'M',\n",
       " 'address': '205 James Haven Apt. 337\\nNew Alexander, SD 52214',\n",
       " 'mail': 'belljessica@hotmail.com',\n",
       " 'birthdate': datetime.datetime(1919, 6, 14, 0, 0),\n",
       " 'age': 102}"
      ]
     },
     "execution_count": 292,
     "metadata": {},
     "output_type": "execute_result"
    }
   ],
   "source": [
    "dbh.users.find_one()"
   ]
  },
  {
   "cell_type": "code",
   "execution_count": 235,
   "id": "amended-jordan",
   "metadata": {},
   "outputs": [
    {
     "data": {
      "text/plain": [
       "{'job': 'Press sub',\n",
       " 'company': 'Thompson, Hicks and Baker',\n",
       " 'ssn': '473-81-0427',\n",
       " 'residence': '2930 Smith Parkways Suite 741\\nBrandontown, MS 85238',\n",
       " 'current_location': (Decimal128('-3.125877'), Decimal128('95.360536')),\n",
       " 'blood_group': 'O-',\n",
       " 'website': ['http://www.chen.com/',\n",
       "  'https://thompson-turner.biz/',\n",
       "  'https://price.org/',\n",
       "  'http://lewis.com/'],\n",
       " 'username': 'yjackson',\n",
       " 'name': 'Denise Fisher',\n",
       " 'sex': 'F',\n",
       " 'address': '6093 Kathleen Brook Apt. 221\\nNorth Michael, NY 53884',\n",
       " 'mail': 'nicholas59@gmail.com',\n",
       " 'birthdate': datetime.datetime(1945, 7, 28, 0, 0),\n",
       " 'age': 76}"
      ]
     },
     "execution_count": 235,
     "metadata": {},
     "output_type": "execute_result"
    }
   ],
   "source": [
    "def gen_profile():\n",
    "    x = Faker().profile()\n",
    "    x['current_location'] = (Decimal(x['current_location'][0]), Decimal(x['current_location'][1]))\n",
    "    x['age'] = date.today().year - x['birthdate'].year\n",
    "    x['birthdate'] = datetime(x['birthdate'].year, x['birthdate'].month, x['birthdate'].day)\n",
    "    return x\n",
    "gen_profile()"
   ]
  },
  {
   "cell_type": "code",
   "execution_count": 213,
   "id": "wooden-protocol",
   "metadata": {},
   "outputs": [],
   "source": [
    "import tqdm"
   ]
  },
  {
   "cell_type": "code",
   "execution_count": 236,
   "id": "innocent-position",
   "metadata": {
    "scrolled": true
   },
   "outputs": [
    {
     "name": "stderr",
     "output_type": "stream",
     "text": [
      "100%|██████████| 1000/1000 [00:48<00:00, 20.70it/s]\n"
     ]
    }
   ],
   "source": [
    "for i in tqdm.tqdm(range(1000)):\n",
    "    dbh.users.insert_one(gen_profile())"
   ]
  },
  {
   "cell_type": "code",
   "execution_count": 281,
   "id": "moral-cancellation",
   "metadata": {},
   "outputs": [
    {
     "data": {
      "text/plain": [
       "[{'name': 'Sandra Graves', 'age': 13, 'teenager': True},\n",
       " {'name': 'Renee Farmer', 'age': 13, 'teenager': True},\n",
       " {'name': 'Michael Whitehead', 'age': 13, 'teenager': True},\n",
       " {'name': 'Jesus Craig', 'age': 13, 'teenager': True},\n",
       " {'name': 'Jeff Jacobs', 'age': 13, 'teenager': True},\n",
       " {'name': 'Margaret Torres', 'age': 13, 'teenager': True},\n",
       " {'name': 'Kelsey Hendrix', 'age': 13, 'teenager': True},\n",
       " {'name': 'Katherine Ramirez', 'age': 14, 'teenager': True},\n",
       " {'name': 'Samuel Greene', 'age': 14, 'teenager': True},\n",
       " {'name': 'Sabrina Phillips', 'age': 14, 'teenager': True}]"
      ]
     },
     "execution_count": 281,
     "metadata": {},
     "output_type": "execute_result"
    }
   ],
   "source": [
    "[u for u in dbh.users.find({\n",
    "    \"$and\": [\n",
    "                {\"age\":{\"$gte\":13}},\n",
    "                {\"age\":{\"$lte\":19}}\n",
    "            ]},\n",
    "    {\"_id\":0, \"age\":1, \"name\":1, \"teenager\":1}).limit(10).sort('age')]"
   ]
  },
  {
   "cell_type": "code",
   "execution_count": 255,
   "id": "oriented-final",
   "metadata": {},
   "outputs": [],
   "source": [
    "ret = dbh.users.delete_one({'_id':ObjectId('6113b890de24031ce926cbe2')})"
   ]
  },
  {
   "cell_type": "code",
   "execution_count": 273,
   "id": "temporal-majority",
   "metadata": {},
   "outputs": [
    {
     "data": {
      "text/plain": [
       "<pymongo.results.UpdateResult at 0x7fa65354f700>"
      ]
     },
     "execution_count": 273,
     "metadata": {},
     "output_type": "execute_result"
    }
   ],
   "source": [
    "dbh.users.update_many({\n",
    "    \"$and\": [\n",
    "                {\"age\":{\"$gte\":13}},\n",
    "                {\"age\":{\"$lte\":19}}\n",
    "            ]},\n",
    "    {\n",
    "        \"$set\":{\n",
    "                        \"teenager\":True\n",
    "                },\n",
    "        \"$currentDate\":{\"lastModified\":True}\n",
    "                  \n",
    "    })"
   ]
  },
  {
   "cell_type": "code",
   "execution_count": 289,
   "id": "studied-advertiser",
   "metadata": {},
   "outputs": [
    {
     "data": {
      "text/plain": [
       "137"
      ]
     },
     "execution_count": 289,
     "metadata": {},
     "output_type": "execute_result"
    }
   ],
   "source": [
    "dbh.users.count_documents({\n",
    "    \"$and\": [\n",
    "                {\"age\":{\"$gte\":100}},\n",
    "                {\"age\":{\"$lte\":120}}\n",
    "            ]})"
   ]
  },
  {
   "cell_type": "code",
   "execution_count": 294,
   "id": "skilled-council",
   "metadata": {},
   "outputs": [
    {
     "data": {
      "text/plain": [
       "['A+', 'A-', 'AB+', 'AB-', 'B+', 'B-', 'O+', 'O-']"
      ]
     },
     "execution_count": 294,
     "metadata": {},
     "output_type": "execute_result"
    }
   ],
   "source": [
    "dbh.users.distinct(\"blood_group\")"
   ]
  },
  {
   "cell_type": "code",
   "execution_count": 316,
   "id": "careful-hours",
   "metadata": {},
   "outputs": [
    {
     "data": {
      "text/plain": [
       "<pymongo.results.InsertManyResult at 0x7fa652d32600>"
      ]
     },
     "execution_count": 316,
     "metadata": {},
     "output_type": "execute_result"
    }
   ],
   "source": [
    "documents = [{\"_id\": 1, \"dept\": \"A\",\n",
    "                  \"item\": {\"code\": \"012\", \"color\": \"red\"},\n",
    "                  \"sizes\": [\"S\", \"L\"]},\n",
    "             {\"_id\": 2, \"dept\": \"A\",\n",
    "                  \"item\": {\"code\": \"012\", \"color\": \"blue\"},\n",
    "                  \"sizes\": [\"M\", \"S\"]},\n",
    "             {\"_id\": 3, \"dept\": \"B\",\n",
    "                  \"item\": {\"code\": \"101\", \"color\": \"blue\"},\n",
    "                  \"sizes\": \"L\"},\n",
    "             {\"_id\": 4, \"dept\": \"A\",\n",
    "                  \"item\": {\"code\": \"679\", \"color\": \"black\"},\n",
    "                  \"sizes\": [\"M\"]}]\n",
    "dbh.distinct_t.insert_many(documents)"
   ]
  },
  {
   "cell_type": "code",
   "execution_count": 317,
   "id": "described-gates",
   "metadata": {},
   "outputs": [
    {
     "name": "stdout",
     "output_type": "stream",
     "text": [
      "{'_id': 1, 'dept': 'A', 'item': {'code': '012', 'color': 'red'}, 'sizes': ['S', 'L']}\n",
      "{'_id': 2, 'dept': 'A', 'item': {'code': '012', 'color': 'blue'}, 'sizes': ['M', 'S']}\n",
      "{'_id': 3, 'dept': 'B', 'item': {'code': '101', 'color': 'blue'}, 'sizes': 'L'}\n",
      "{'_id': 4, 'dept': 'A', 'item': {'code': '679', 'color': 'black'}, 'sizes': ['M']}\n"
     ]
    }
   ],
   "source": [
    "for doc in dbh.distinct_t.find({}):\n",
    "    print(doc)"
   ]
  },
  {
   "cell_type": "code",
   "execution_count": 306,
   "id": "dominant-emission",
   "metadata": {},
   "outputs": [
    {
     "data": {
      "text/plain": [
       "['101']"
      ]
     },
     "execution_count": 306,
     "metadata": {},
     "output_type": "execute_result"
    }
   ],
   "source": [
    "dbh.distinct_t.distinct(\"item.code\", {\"dept\":\"B\"})"
   ]
  },
  {
   "cell_type": "code",
   "execution_count": 309,
   "id": "frank-omega",
   "metadata": {},
   "outputs": [
    {
     "data": {
      "text/plain": [
       "{'_id': 1,\n",
       " 'dept': 'A',\n",
       " 'item': {'code': '012', 'color': 'red'},\n",
       " 'sizes': ['S', 'L']}"
      ]
     },
     "execution_count": 309,
     "metadata": {},
     "output_type": "execute_result"
    }
   ],
   "source": [
    "dbh.distinct_t.find_one_and_replace({\"dept\":\"A\"}, {\"dept\":\"C\"})"
   ]
  },
  {
   "cell_type": "code",
   "execution_count": 314,
   "id": "possible-diameter",
   "metadata": {},
   "outputs": [
    {
     "data": {
      "text/plain": [
       "<pymongo.results.DeleteResult at 0x7fa652d2da40>"
      ]
     },
     "execution_count": 314,
     "metadata": {},
     "output_type": "execute_result"
    }
   ],
   "source": [
    "dbh.distinct_t.delete_many({})"
   ]
  },
  {
   "cell_type": "code",
   "execution_count": 324,
   "id": "mobile-finder",
   "metadata": {},
   "outputs": [
    {
     "name": "stdout",
     "output_type": "stream",
     "text": [
      "{'_id': 'A-', 'total': 131}\n",
      "{'_id': 'B-', 'total': 104}\n",
      "{'_id': 'AB-', 'total': 116}\n",
      "{'_id': 'A+', 'total': 132}\n",
      "{'_id': 'AB+', 'total': 126}\n",
      "{'_id': 'B+', 'total': 130}\n",
      "{'_id': 'O-', 'total': 134}\n",
      "{'_id': 'O+', 'total': 127}\n"
     ]
    }
   ],
   "source": [
    "aggr = dbh.users.aggregate(\n",
    "[\n",
    "    {\n",
    "        \"$group\": {\n",
    "            \"_id\": \"$blood_group\",\n",
    "            \"total\": {\"$sum\":1}\n",
    "        }\n",
    "    }\n",
    "]\n",
    ")\n",
    "\n",
    "for i in aggr:\n",
    "    print(i)"
   ]
  }
 ],
 "metadata": {
  "kernelspec": {
   "display_name": "Python 3",
   "language": "python",
   "name": "python3"
  },
  "language_info": {
   "codemirror_mode": {
    "name": "ipython",
    "version": 3
   },
   "file_extension": ".py",
   "mimetype": "text/x-python",
   "name": "python",
   "nbconvert_exporter": "python",
   "pygments_lexer": "ipython3",
   "version": "3.8.5"
  }
 },
 "nbformat": 4,
 "nbformat_minor": 5
}
